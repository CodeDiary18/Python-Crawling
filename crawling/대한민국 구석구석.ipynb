{
 "cells": [
  {
   "cell_type": "markdown",
   "metadata": {},
   "source": [
    "# 대한민국 구석구석 사이트에 검색어 자동 입력하기\n",
    "### chromedrive.exe의 위치는 이 주피터 노트북이 있는 디렉토리 안에 있어야 함"
   ]
  },
  {
   "cell_type": "code",
   "execution_count": 1,
   "metadata": {},
   "outputs": [],
   "source": [
    "from bs4 import BeautifulSoup\n",
    "from selenium import webdriver\n",
    "import time\n",
    "import os\n",
    "import sys"
   ]
  },
  {
   "cell_type": "code",
   "execution_count": 2,
   "metadata": {},
   "outputs": [
    {
     "name": "stdout",
     "output_type": "stream",
     "text": [
      "크롤링할 키워드를 입력하세요 : 여름여행\n",
      "검색 결과를 저장할 파일경로와 이름을 입력하세요 : test.txt\n"
     ]
    }
   ],
   "source": [
    "query_text = input('크롤링할 키워드를 입력하세요 : ')\n",
    "f_name = input('검색 결과를 저장할 파일경로와 이름을 입력하세요 : ')"
   ]
  },
  {
   "cell_type": "code",
   "execution_count": 3,
   "metadata": {},
   "outputs": [],
   "source": [
    "# chrome 드라이버를 사용해서 웹 브라우저를 실행\n",
    "path=\"./chromedriver.exe\"\n",
    "driver=webdriver.Chrome(path)\n",
    "driver.get(\"https://korean.visitkorea.or.kr/main/main.do#home\") # 대한민국 구석구석 페이지\n",
    "time.sleep(2) # 페이지가 모두 열릴 때 까지 2초 기다리기\n",
    "driver.find_element_by_id('chkForm01').click()"
   ]
  },
  {
   "cell_type": "code",
   "execution_count": 4,
   "metadata": {},
   "outputs": [],
   "source": [
    "# 검색창에 검색어를 입력\n",
    "element=driver.find_element_by_id(\"inp_search\")\n",
    "element.send_keys(query_text)"
   ]
  },
  {
   "cell_type": "code",
   "execution_count": 5,
   "metadata": {},
   "outputs": [],
   "source": [
    "# 검색 버튼을 눌러 실행\n",
    "driver.find_element_by_link_text(\"검색\").click()"
   ]
  },
  {
   "cell_type": "code",
   "execution_count": 6,
   "metadata": {},
   "outputs": [
    {
     "name": "stdout",
     "output_type": "stream",
     "text": [
      "무더운 여름, 시원하게 즐기는 레저여행   경기도 광명시    #광명동굴#뉴서울다이빙풀#광명스피돔#광명새마을시장#여름여행#서울근교여행#재래시장#스포츠센터#가족여행#데이트코스#연인과함께#친구와함께#당일치기여행#레포츠#당일코스#1박2일#2박3일   광명동굴 뉴서울 다이빙 풀 (점심)장수촌 광명스피돔 광명새마을시장 더보기  즐겨찾기 공유하기 코스에 담기\n",
      "\n",
      "\n",
      "[당일치기 섬 여행] 여름을 잊은 그대에게, 트레킹 천국 장봉도   인천 옹진군    #인천가볼만한곳#공공누리#낙조풍경#트레킹#장봉도#갯티길#장봉도당일치기코스#바다풍경#해안길#가막머리#하늘나들길#장봉해안길#여름여행#여름가볼만한곳#봉화대#갯벌품은해변#옹암해변#인천맛집#하늘정원#당일치기섬여행#당일치기여행 더보기  즐겨찾기 공유하기\n",
      "\n",
      "\n",
      "한국관광공사 추천 8월 걷기여행길, 여름의 정취를 느끼러 가는 길   강원도 속초시    #속초가볼만한곳#걷기여행길#설악누리길#홍천가볼만한곳#수타사산소길#김천가볼만한곳#인현왕후길#성주가볼만한곳#보령가볼만한곳#삽시도둘레길#남해가볼만한곳#앵강다숲길#트레킹#레포츠#여름방학가볼만한곳#힐링여행#휴양여행#힐링#트레킹코스#바다#바다풍경#산책코스#산책로#걷기여행#칠선용성간숲길#한국관광6선#여름#무더위#산바람#바닷바람#8월가볼만한곳 더보기  즐겨찾기 공유하기\n",
      "\n",
      "\n",
      "[안동 가볼만한 곳] 한적한 여름여행지 안동 1박2일   경상북도 안동시    #안동가볼만한곳#안동여행#안동여행코스#안동1박2일코스#안동1박2일여행코스#여름휴가지추천#국내여행#안동여행지#안동여행코스추천#안동여행지 더보기  즐겨찾기 공유하기\n",
      "\n",
      "\n",
      "\n",
      "\n",
      "\n",
      "가족여행에 최적화된 여름 휴가지, 고창 동호해수욕장   전라북도 고창군    #고창가볼만한곳#동호해수욕장#피서여행#물놀이#캠핑장#여름휴가#갯벌체험#백사장#고인돌#세계유산#고창고인돌박물관 더보기  즐겨찾기 공유하기\n",
      "\n",
      "\n",
      "한국관광공사 추천 7월 걷기여행길, 아름다운 여름의 정취를 물씬 느낄 수 있는 길   경기도 포천시    #한국관광6선#걷기여행길#걷기여행#여름방학가볼만한곳#여름#휴가#풀향기#바다내음#힐링#휴양여행#힐링여행#포천가볼만한곳#주상절리길#한탄강#비둘기낭폭포#한탄강하늘다리#비둘기낭순환코스#곡성가볼만한곳#섬진강둘레길#마천목장군길#트레킹코스#금산가볼만한곳#솔바람길#진천가볼만한곳#진천초롱길#진천농다리#창원가볼만한곳#봉암수원지둘레길#동해가볼만한곳#논골담길#전망대#산책코스#산책로 더보기  즐겨찾기 공유하기\n",
      "\n",
      "\n",
      "한 여름에도 시원한 얼음골, 밀양 여행   경상남도 밀양시    #가지산도립공원#밍양얼음골#표충사#밀양평리산대추마을#조깅#등산로#여름여행#여름휴가#가족여행#힐링#연중무휴#경상권#당일코스#1박2일#2박3일#추천코스   가지산도립공원(밀양) 밀양 얼음골 표충사(밀양) 밀양 평리산 대추마을 더보기  즐겨찾기 공유하기 코스에 담기\n",
      "\n",
      "\n",
      "한적한 여름휴가지로 추천!시원한 강원도 여행지, 고성으로 떠나요~고성 가볼 만한 곳   강원도 고성군    #강원가볼만한곳#고성가볼만한곳#고성여행#화암사#​바우지움조각미술관#​테일커피#​가진해변#여름나들이 더보기  즐겨찾기 공유하기\n",
      "\n",
      "\n",
      "[여행 카드] 탐나는 여름 맛 빙수   서울     #서울가볼만한곳#빙수#서울맛집#여름제철음식#이색카페#카페이미#반전형제#부빙#티라벤토#북촌빙수#망고빙수#실타래빙수#옥수수빙수#수박빙수#오렌지빙수#아이와함께#친구와함께#연인과함께#가족여행#먹방여행#미식여행#빙수맛집#맛집여행#여행카드#구석구석미식회#여름휴가_미리보기#6월가볼만한곳 더보기  즐겨찾기 공유하기\n",
      "\n",
      "\n",
      "[국내여행 버킷리스트 3탄] 올 여름엔 제주도 자전거 여행이다!   제주도     #제주도가볼만한곳#풍경여행#친구와함께#섬여행#나홀로여행#자연#바다여행#여름휴가#공공누리#레포츠여행 더보기  즐겨찾기 공유하기\n",
      "\n",
      "\n"
     ]
    }
   ],
   "source": [
    "# 현재 페이지에 있는 내용을 화면에 출력\n",
    "time.sleep(1)\n",
    "full_html=driver.page_source\n",
    "\n",
    "soup = BeautifulSoup(full_html, 'html.parser')\n",
    "content_list=soup.find('ul', class_='list_thumType type1')\n",
    "for i in content_list:\n",
    "    print(i.text.strip())\n",
    "    print('\\n')"
   ]
  },
  {
   "cell_type": "code",
   "execution_count": 7,
   "metadata": {},
   "outputs": [
    {
     "name": "stdout",
     "output_type": "stream",
     "text": [
      "요청한 데이터 수집 완료~!\n"
     ]
    }
   ],
   "source": [
    "# 현재 페이지에 있는 내용을 txt 형식으로 파일에 저장\n",
    "orig_stdout=sys.stdout\n",
    "f=open(f_name,'a',encoding='UTF-8')\n",
    "sys.stdout=f\n",
    "time.sleep(1)\n",
    "\n",
    "html=driver.page_source\n",
    "soup = BeautifulSoup(html, 'html.parser')\n",
    "content_list=soup.find('ul', class_='list_thumType type1')\n",
    "for i in content_list:\n",
    "    print(i.text.strip())\n",
    "    print('\\n')\n",
    "sys.stdout=orig_stdout\n",
    "f.close()\n",
    "print('요청한 데이터 수집 완료~!')"
   ]
  },
  {
   "cell_type": "code",
   "execution_count": null,
   "metadata": {},
   "outputs": [],
   "source": []
  }
 ],
 "metadata": {
  "kernelspec": {
   "display_name": "Python [conda env:py38tensorflow]",
   "language": "python",
   "name": "conda-env-py38tensorflow-py"
  },
  "language_info": {
   "codemirror_mode": {
    "name": "ipython",
    "version": 3
   },
   "file_extension": ".py",
   "mimetype": "text/x-python",
   "name": "python",
   "nbconvert_exporter": "python",
   "pygments_lexer": "ipython3",
   "version": "3.8.5"
  }
 },
 "nbformat": 4,
 "nbformat_minor": 4
}
