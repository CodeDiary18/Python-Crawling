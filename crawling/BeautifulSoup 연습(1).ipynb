{
 "cells": [
  {
   "cell_type": "markdown",
   "metadata": {},
   "source": [
    "# BeautifulSoup 연습(1)\n",
    "## find(), find_all(), .string, get_text()"
   ]
  },
  {
   "cell_type": "code",
   "execution_count": 1,
   "metadata": {},
   "outputs": [],
   "source": [
    "from bs4 import BeautifulSoup"
   ]
  },
  {
   "cell_type": "code",
   "execution_count": 2,
   "metadata": {},
   "outputs": [],
   "source": [
    "ex1='''\n",
    "<html>\n",
    "    <head>\n",
    "        <title>HTML 연습</title>\n",
    "    </head>\n",
    "    <body>\n",
    "        <p align=\"center\">text 1</p>\n",
    "        <img src=\"http://image.yes24.com/goods/78227084/800x0\">\n",
    "    </body>\n",
    "</html>\n",
    "'''"
   ]
  },
  {
   "cell_type": "code",
   "execution_count": 3,
   "metadata": {},
   "outputs": [
    {
     "data": {
      "text/plain": [
       "<title>HTML 연습</title>"
      ]
     },
     "execution_count": 3,
     "metadata": {},
     "output_type": "execute_result"
    }
   ],
   "source": [
    "# find 함수 : HTML 코드 안에서 원하는 태그 가져오기\n",
    "soup=BeautifulSoup(ex1, 'html.parser')\n",
    "soup.find('title') # title 태그 "
   ]
  },
  {
   "cell_type": "code",
   "execution_count": 4,
   "metadata": {},
   "outputs": [
    {
     "data": {
      "text/plain": [
       "<p align=\"center\">text 1</p>"
      ]
     },
     "execution_count": 4,
     "metadata": {},
     "output_type": "execute_result"
    }
   ],
   "source": [
    "soup.find('p') # p 태그"
   ]
  },
  {
   "cell_type": "code",
   "execution_count": 5,
   "metadata": {},
   "outputs": [],
   "source": [
    "ex2='''\n",
    "<html>\n",
    "    <head>\n",
    "        <title>HTML 연습</title>\n",
    "    </head>\n",
    "    <body>\n",
    "        <p align=\"center\">text 1</p>\n",
    "        <p align=\"right\">text 2</p>\n",
    "        <p align=\"left\">text 3</p>\n",
    "        <img src=\"http://image.yes24.com/goods/78227084/800x0\">\n",
    "    </body>\n",
    "</html>\n",
    "'''"
   ]
  },
  {
   "cell_type": "code",
   "execution_count": 6,
   "metadata": {},
   "outputs": [
    {
     "data": {
      "text/plain": [
       "<p align=\"center\">text 1</p>"
      ]
     },
     "execution_count": 6,
     "metadata": {},
     "output_type": "execute_result"
    }
   ],
   "source": [
    "soup=BeautifulSoup(ex2, 'html.parser')\n",
    "soup.find('p') # title 태그"
   ]
  },
  {
   "cell_type": "code",
   "execution_count": 7,
   "metadata": {},
   "outputs": [
    {
     "data": {
      "text/plain": [
       "<p align=\"center\">text 1</p>"
      ]
     },
     "execution_count": 7,
     "metadata": {},
     "output_type": "execute_result"
    }
   ],
   "source": [
    "# 태그의 속성을 이용해서 조회하기\n",
    "soup.find('p', align=\"center\")"
   ]
  },
  {
   "cell_type": "code",
   "execution_count": 8,
   "metadata": {},
   "outputs": [
    {
     "data": {
      "text/plain": [
       "<p align=\"right\">text 2</p>"
      ]
     },
     "execution_count": 8,
     "metadata": {},
     "output_type": "execute_result"
    }
   ],
   "source": [
    "soup.find('p', align=\"right\")"
   ]
  },
  {
   "cell_type": "code",
   "execution_count": 9,
   "metadata": {},
   "outputs": [
    {
     "data": {
      "text/plain": [
       "<p align=\"left\">text 3</p>"
      ]
     },
     "execution_count": 9,
     "metadata": {},
     "output_type": "execute_result"
    }
   ],
   "source": [
    "soup.find('p', align=\"left\")"
   ]
  },
  {
   "cell_type": "code",
   "execution_count": 10,
   "metadata": {},
   "outputs": [],
   "source": [
    "ex3='''\n",
    "<html>\n",
    "    <head>\n",
    "        <title>HTML 연습</title>\n",
    "    </head>\n",
    "    <body>\n",
    "        <p align=\"center\">text 1</p>\n",
    "        <p align=\"center\">text 2</p>\n",
    "        <p align=\"center\">text 3</p>\n",
    "        <img src=\"http://image.yes24.com/goods/78227084/800x0\">\n",
    "    </body>\n",
    "</html>\n",
    "'''"
   ]
  },
  {
   "cell_type": "code",
   "execution_count": 11,
   "metadata": {},
   "outputs": [
    {
     "data": {
      "text/plain": [
       "[<p align=\"center\">text 1</p>,\n",
       " <p align=\"center\">text 2</p>,\n",
       " <p align=\"center\">text 3</p>]"
      ]
     },
     "execution_count": 11,
     "metadata": {},
     "output_type": "execute_result"
    }
   ],
   "source": [
    "# find_all 함수 : 해당 태그가 여러 개 있을 경우 한꺼번에 모두 가져오기\n",
    "soup = BeautifulSoup(ex3, 'html.parser')\n",
    "soup.find_all('p')"
   ]
  },
  {
   "cell_type": "code",
   "execution_count": 12,
   "metadata": {},
   "outputs": [
    {
     "data": {
      "text/plain": [
       "[<p align=\"center\">text 1</p>,\n",
       " <p align=\"center\">text 2</p>,\n",
       " <p align=\"center\">text 3</p>,\n",
       " <img src=\"http://image.yes24.com/goods/78227084/800x0\"/>]"
      ]
     },
     "execution_count": 12,
     "metadata": {},
     "output_type": "execute_result"
    }
   ],
   "source": [
    "# find_all 함수로 여러 가지 태그를 조회하고 싶다면?\n",
    "soup.find_all(['p','img'])"
   ]
  },
  {
   "cell_type": "code",
   "execution_count": 13,
   "metadata": {},
   "outputs": [
    {
     "data": {
      "text/plain": [
       "'text 1'"
      ]
     },
     "execution_count": 13,
     "metadata": {},
     "output_type": "execute_result"
    }
   ],
   "source": [
    "# find 함수로 가져온 태그 정보 문장 가져오기\n",
    "txt = soup.find('p')\n",
    "txt.string"
   ]
  },
  {
   "cell_type": "code",
   "execution_count": 14,
   "metadata": {},
   "outputs": [
    {
     "name": "stdout",
     "output_type": "stream",
     "text": [
      "text 1\n",
      "text 2\n",
      "text 3\n"
     ]
    }
   ],
   "source": [
    "# find_all 함수로 가져온 태그 정보 문장 가져오기\n",
    "txt2 = soup.find_all('p')\n",
    "for i in txt2:\n",
    "    print(i.string)"
   ]
  },
  {
   "cell_type": "code",
   "execution_count": 15,
   "metadata": {},
   "outputs": [
    {
     "name": "stdout",
     "output_type": "stream",
     "text": [
      "text 1\n",
      "text 2\n",
      "text 3\n"
     ]
    }
   ],
   "source": [
    "# get_text 함수로 텍스트 데이터 추출\n",
    "txt3 = soup.find_all('p')\n",
    "for i in txt3:\n",
    "    print(i.get_text())"
   ]
  }
 ],
 "metadata": {
  "kernelspec": {
   "display_name": "Python [conda env:py38tensorflow]",
   "language": "python",
   "name": "conda-env-py38tensorflow-py"
  },
  "language_info": {
   "codemirror_mode": {
    "name": "ipython",
    "version": 3
   },
   "file_extension": ".py",
   "mimetype": "text/x-python",
   "name": "python",
   "nbconvert_exporter": "python",
   "pygments_lexer": "ipython3",
   "version": "3.8.5"
  }
 },
 "nbformat": 4,
 "nbformat_minor": 4
}
