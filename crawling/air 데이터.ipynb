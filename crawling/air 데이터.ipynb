{
 "cells": [
  {
   "cell_type": "markdown",
   "metadata": {
    "id": "hy729-LJLGUS"
   },
   "source": [
    "# air 관련 데이터 크롤링"
   ]
  },
  {
   "cell_type": "code",
   "execution_count": 1,
   "metadata": {
    "id": "biePbQIPLGUT"
   },
   "outputs": [],
   "source": [
    "import json\n",
    "import requests\n",
    "from urllib.request import urlopen\n",
    "from bs4 import BeautifulSoup\n",
    "from ast import literal_eval"
   ]
  },
  {
   "cell_type": "markdown",
   "metadata": {
    "id": "z0kcTMHVLGUU"
   },
   "source": [
    "## 데이터를 가져올 url"
   ]
  },
  {
   "cell_type": "code",
   "execution_count": 2,
   "metadata": {
    "colab": {
     "base_uri": "https://localhost:8080/",
     "height": 55
    },
    "id": "n_eUEq3nLGUU",
    "outputId": "b9313e18-be0e-4ef4-db92-8338887ce971"
   },
   "outputs": [],
   "source": [
    "url = 'https://api.openweathermap.org/data/2.5/air_pollution/forecast?lat=위도&lon=경도&appid=APIKEY'\n",
    "# 북위 37.5642135° 동경 127.0016985°\n",
    "url = url.replace('위도','37.5642135')\n",
    "url = url.replace('경도','127.0016985')\n",
    "url = url.replace('APIKEY','여기다가 발급받은 API KEY로 대체')"
   ]
  },
  {
   "cell_type": "markdown",
   "metadata": {
    "id": "cIs9OeOMLGUV"
   },
   "source": [
    "## 데이터 가져오기"
   ]
  },
  {
   "cell_type": "code",
   "execution_count": 3,
   "metadata": {
    "id": "1pjr8BkILGUV"
   },
   "outputs": [],
   "source": [
    "response = requests.get(url)\n",
    "data = response.json()"
   ]
  },
  {
   "cell_type": "code",
   "execution_count": 4,
   "metadata": {
    "id": "DfQXayq5LGUW"
   },
   "outputs": [],
   "source": [
    "#data"
   ]
  },
  {
   "cell_type": "markdown",
   "metadata": {
    "id": "KKiostC0VvzC"
   },
   "source": [
    "## json 형식으로 데이터 저장"
   ]
  },
  {
   "cell_type": "code",
   "execution_count": 5,
   "metadata": {
    "id": "0g3niO1lLGUW"
   },
   "outputs": [],
   "source": [
    "with open(\"air.json\", \"w\") as json_file:\n",
    "    json.dump(data, json_file)"
   ]
  },
  {
   "cell_type": "markdown",
   "metadata": {
    "id": "QTnQMz2xV4We"
   },
   "source": [
    "## json파일 가져와서 데이터 가공"
   ]
  },
  {
   "cell_type": "code",
   "execution_count": 6,
   "metadata": {
    "colab": {
     "base_uri": "https://localhost:8080/"
    },
    "id": "-qLETh_7LGUX",
    "outputId": "77cfe16d-8760-4fec-ecaa-beaaa6ac50fd"
   },
   "outputs": [
    {
     "data": {
      "text/plain": [
       "17"
      ]
     },
     "execution_count": 6,
     "metadata": {},
     "output_type": "execute_result"
    }
   ],
   "source": [
    "import pandas as pd\n",
    "from datetime import datetime\n",
    "from pytz import timezone\n",
    "import time\n",
    "load_data = json.load(open(\"air.json\"))\n",
    "KST = timezone('Asia/Seoul')\n",
    "today = datetime.now(timezone('Asia/Seoul'))\n",
    "today.day"
   ]
  },
  {
   "cell_type": "code",
   "execution_count": 7,
   "metadata": {
    "id": "kud3Socoxnlz"
   },
   "outputs": [],
   "source": [
    "# for i in range(0,len(load_data['list'])):\n",
    "#   df = df.append(load_data['list'][i]['components'],ignore_index=True)\n",
    "#   d_time = (datetime.strptime(time.strftime('%Y-%m-%d %H',time.gmtime(load_data['list'][i]['dt'])),\"%Y-%m-%d %H\")).astimezone(KST)\n",
    "#   df['date'][i] = datetime.strftime(d_time,'%Y-%m-%d %H')"
   ]
  },
  {
   "cell_type": "markdown",
   "metadata": {
    "id": "IqUDOxUUyf6f"
   },
   "source": [
    "### pandas 데이터프레임에 저장"
   ]
  },
  {
   "cell_type": "code",
   "execution_count": 8,
   "metadata": {
    "colab": {
     "base_uri": "https://localhost:8080/",
     "height": 423
    },
    "id": "d-Tha5FymX17",
    "outputId": "818d1e67-af4b-484c-f928-b681f3152de3"
   },
   "outputs": [
    {
     "data": {
      "text/html": [
       "<div>\n",
       "<style scoped>\n",
       "    .dataframe tbody tr th:only-of-type {\n",
       "        vertical-align: middle;\n",
       "    }\n",
       "\n",
       "    .dataframe tbody tr th {\n",
       "        vertical-align: top;\n",
       "    }\n",
       "\n",
       "    .dataframe thead th {\n",
       "        text-align: right;\n",
       "    }\n",
       "</style>\n",
       "<table border=\"1\" class=\"dataframe\">\n",
       "  <thead>\n",
       "    <tr style=\"text-align: right;\">\n",
       "      <th></th>\n",
       "      <th>date</th>\n",
       "      <th>co</th>\n",
       "      <th>nh3</th>\n",
       "      <th>no</th>\n",
       "      <th>no2</th>\n",
       "      <th>o3</th>\n",
       "      <th>pm10</th>\n",
       "      <th>pm2_5</th>\n",
       "      <th>so2</th>\n",
       "    </tr>\n",
       "  </thead>\n",
       "  <tbody>\n",
       "    <tr>\n",
       "      <th>0</th>\n",
       "      <td>2021-07-17 00</td>\n",
       "      <td>373.84</td>\n",
       "      <td>0.78</td>\n",
       "      <td>11.74</td>\n",
       "      <td>39.07</td>\n",
       "      <td>31.11</td>\n",
       "      <td>26.22</td>\n",
       "      <td>23.21</td>\n",
       "      <td>12.40</td>\n",
       "    </tr>\n",
       "    <tr>\n",
       "      <th>1</th>\n",
       "      <td>2021-07-17 01</td>\n",
       "      <td>263.69</td>\n",
       "      <td>0.45</td>\n",
       "      <td>3.55</td>\n",
       "      <td>25.02</td>\n",
       "      <td>39.70</td>\n",
       "      <td>13.41</td>\n",
       "      <td>11.83</td>\n",
       "      <td>8.82</td>\n",
       "    </tr>\n",
       "    <tr>\n",
       "      <th>2</th>\n",
       "      <td>2021-07-17 02</td>\n",
       "      <td>223.64</td>\n",
       "      <td>0.48</td>\n",
       "      <td>2.52</td>\n",
       "      <td>17.31</td>\n",
       "      <td>43.63</td>\n",
       "      <td>8.31</td>\n",
       "      <td>7.30</td>\n",
       "      <td>7.15</td>\n",
       "    </tr>\n",
       "    <tr>\n",
       "      <th>3</th>\n",
       "      <td>2021-07-17 03</td>\n",
       "      <td>210.29</td>\n",
       "      <td>0.59</td>\n",
       "      <td>2.10</td>\n",
       "      <td>14.91</td>\n",
       "      <td>52.21</td>\n",
       "      <td>6.56</td>\n",
       "      <td>5.74</td>\n",
       "      <td>6.56</td>\n",
       "    </tr>\n",
       "    <tr>\n",
       "      <th>4</th>\n",
       "      <td>2021-07-17 04</td>\n",
       "      <td>200.27</td>\n",
       "      <td>0.71</td>\n",
       "      <td>1.23</td>\n",
       "      <td>15.25</td>\n",
       "      <td>50.07</td>\n",
       "      <td>4.44</td>\n",
       "      <td>3.78</td>\n",
       "      <td>5.96</td>\n",
       "    </tr>\n",
       "    <tr>\n",
       "      <th>...</th>\n",
       "      <td>...</td>\n",
       "      <td>...</td>\n",
       "      <td>...</td>\n",
       "      <td>...</td>\n",
       "      <td>...</td>\n",
       "      <td>...</td>\n",
       "      <td>...</td>\n",
       "      <td>...</td>\n",
       "      <td>...</td>\n",
       "    </tr>\n",
       "    <tr>\n",
       "      <th>68</th>\n",
       "      <td>2021-07-19 20</td>\n",
       "      <td>540.73</td>\n",
       "      <td>1.03</td>\n",
       "      <td>52.75</td>\n",
       "      <td>25.02</td>\n",
       "      <td>0.00</td>\n",
       "      <td>41.78</td>\n",
       "      <td>39.35</td>\n",
       "      <td>7.57</td>\n",
       "    </tr>\n",
       "    <tr>\n",
       "      <th>69</th>\n",
       "      <td>2021-07-19 21</td>\n",
       "      <td>540.73</td>\n",
       "      <td>1.03</td>\n",
       "      <td>52.75</td>\n",
       "      <td>25.02</td>\n",
       "      <td>0.00</td>\n",
       "      <td>41.78</td>\n",
       "      <td>39.35</td>\n",
       "      <td>7.57</td>\n",
       "    </tr>\n",
       "    <tr>\n",
       "      <th>70</th>\n",
       "      <td>2021-07-19 22</td>\n",
       "      <td>540.73</td>\n",
       "      <td>1.03</td>\n",
       "      <td>52.75</td>\n",
       "      <td>25.02</td>\n",
       "      <td>0.00</td>\n",
       "      <td>41.78</td>\n",
       "      <td>39.35</td>\n",
       "      <td>7.57</td>\n",
       "    </tr>\n",
       "    <tr>\n",
       "      <th>71</th>\n",
       "      <td>2021-07-19 23</td>\n",
       "      <td>540.73</td>\n",
       "      <td>1.03</td>\n",
       "      <td>52.75</td>\n",
       "      <td>25.02</td>\n",
       "      <td>0.00</td>\n",
       "      <td>41.78</td>\n",
       "      <td>39.35</td>\n",
       "      <td>7.57</td>\n",
       "    </tr>\n",
       "    <tr>\n",
       "      <th>72</th>\n",
       "      <td>2021-07-20 00</td>\n",
       "      <td>540.73</td>\n",
       "      <td>1.03</td>\n",
       "      <td>52.75</td>\n",
       "      <td>25.02</td>\n",
       "      <td>0.00</td>\n",
       "      <td>41.78</td>\n",
       "      <td>39.35</td>\n",
       "      <td>7.57</td>\n",
       "    </tr>\n",
       "  </tbody>\n",
       "</table>\n",
       "<p>73 rows × 9 columns</p>\n",
       "</div>"
      ],
      "text/plain": [
       "             date      co   nh3     no    no2     o3   pm10  pm2_5    so2\n",
       "0   2021-07-17 00  373.84  0.78  11.74  39.07  31.11  26.22  23.21  12.40\n",
       "1   2021-07-17 01  263.69  0.45   3.55  25.02  39.70  13.41  11.83   8.82\n",
       "2   2021-07-17 02  223.64  0.48   2.52  17.31  43.63   8.31   7.30   7.15\n",
       "3   2021-07-17 03  210.29  0.59   2.10  14.91  52.21   6.56   5.74   6.56\n",
       "4   2021-07-17 04  200.27  0.71   1.23  15.25  50.07   4.44   3.78   5.96\n",
       "..            ...     ...   ...    ...    ...    ...    ...    ...    ...\n",
       "68  2021-07-19 20  540.73  1.03  52.75  25.02   0.00  41.78  39.35   7.57\n",
       "69  2021-07-19 21  540.73  1.03  52.75  25.02   0.00  41.78  39.35   7.57\n",
       "70  2021-07-19 22  540.73  1.03  52.75  25.02   0.00  41.78  39.35   7.57\n",
       "71  2021-07-19 23  540.73  1.03  52.75  25.02   0.00  41.78  39.35   7.57\n",
       "72  2021-07-20 00  540.73  1.03  52.75  25.02   0.00  41.78  39.35   7.57\n",
       "\n",
       "[73 rows x 9 columns]"
      ]
     },
     "execution_count": 8,
     "metadata": {},
     "output_type": "execute_result"
    }
   ],
   "source": [
    "df = pd.DataFrame(columns = ['date'])\n",
    "for i in range(0,len(load_data['list'])):\n",
    "  d_time = (datetime.strptime(time.strftime('%Y-%m-%d %H',time.gmtime(load_data['list'][i]['dt'])),\"%Y-%m-%d %H\")).astimezone(KST) #한국시간으로 변경\n",
    "  if (d_time.month==today.month) and (d_time.day < today.day):\n",
    "     continue\n",
    "  df = df.append(load_data['list'][i]['components'],ignore_index=True)\n",
    "  df['date'].fillna(value = datetime.strftime(d_time,'%Y-%m-%d %H'),inplace=True)\n",
    "df"
   ]
  },
  {
   "cell_type": "markdown",
   "metadata": {
    "id": "gmqPKtHUyaRh"
   },
   "source": [
    "### 필요한 열만 추출"
   ]
  },
  {
   "cell_type": "code",
   "execution_count": 9,
   "metadata": {
    "colab": {
     "base_uri": "https://localhost:8080/",
     "height": 423
    },
    "id": "Uoz4VQVRm4I8",
    "outputId": "7104524c-b072-4f8a-b1eb-8a5fb5e4e625"
   },
   "outputs": [
    {
     "data": {
      "text/html": [
       "<div>\n",
       "<style scoped>\n",
       "    .dataframe tbody tr th:only-of-type {\n",
       "        vertical-align: middle;\n",
       "    }\n",
       "\n",
       "    .dataframe tbody tr th {\n",
       "        vertical-align: top;\n",
       "    }\n",
       "\n",
       "    .dataframe thead th {\n",
       "        text-align: right;\n",
       "    }\n",
       "</style>\n",
       "<table border=\"1\" class=\"dataframe\">\n",
       "  <thead>\n",
       "    <tr style=\"text-align: right;\">\n",
       "      <th></th>\n",
       "      <th>date</th>\n",
       "      <th>co</th>\n",
       "      <th>pm10</th>\n",
       "      <th>pm2_5</th>\n",
       "    </tr>\n",
       "  </thead>\n",
       "  <tbody>\n",
       "    <tr>\n",
       "      <th>0</th>\n",
       "      <td>2021-07-17 00</td>\n",
       "      <td>373.84</td>\n",
       "      <td>26.22</td>\n",
       "      <td>23.21</td>\n",
       "    </tr>\n",
       "    <tr>\n",
       "      <th>1</th>\n",
       "      <td>2021-07-17 01</td>\n",
       "      <td>263.69</td>\n",
       "      <td>13.41</td>\n",
       "      <td>11.83</td>\n",
       "    </tr>\n",
       "    <tr>\n",
       "      <th>2</th>\n",
       "      <td>2021-07-17 02</td>\n",
       "      <td>223.64</td>\n",
       "      <td>8.31</td>\n",
       "      <td>7.30</td>\n",
       "    </tr>\n",
       "    <tr>\n",
       "      <th>3</th>\n",
       "      <td>2021-07-17 03</td>\n",
       "      <td>210.29</td>\n",
       "      <td>6.56</td>\n",
       "      <td>5.74</td>\n",
       "    </tr>\n",
       "    <tr>\n",
       "      <th>4</th>\n",
       "      <td>2021-07-17 04</td>\n",
       "      <td>200.27</td>\n",
       "      <td>4.44</td>\n",
       "      <td>3.78</td>\n",
       "    </tr>\n",
       "    <tr>\n",
       "      <th>...</th>\n",
       "      <td>...</td>\n",
       "      <td>...</td>\n",
       "      <td>...</td>\n",
       "      <td>...</td>\n",
       "    </tr>\n",
       "    <tr>\n",
       "      <th>68</th>\n",
       "      <td>2021-07-19 20</td>\n",
       "      <td>540.73</td>\n",
       "      <td>41.78</td>\n",
       "      <td>39.35</td>\n",
       "    </tr>\n",
       "    <tr>\n",
       "      <th>69</th>\n",
       "      <td>2021-07-19 21</td>\n",
       "      <td>540.73</td>\n",
       "      <td>41.78</td>\n",
       "      <td>39.35</td>\n",
       "    </tr>\n",
       "    <tr>\n",
       "      <th>70</th>\n",
       "      <td>2021-07-19 22</td>\n",
       "      <td>540.73</td>\n",
       "      <td>41.78</td>\n",
       "      <td>39.35</td>\n",
       "    </tr>\n",
       "    <tr>\n",
       "      <th>71</th>\n",
       "      <td>2021-07-19 23</td>\n",
       "      <td>540.73</td>\n",
       "      <td>41.78</td>\n",
       "      <td>39.35</td>\n",
       "    </tr>\n",
       "    <tr>\n",
       "      <th>72</th>\n",
       "      <td>2021-07-20 00</td>\n",
       "      <td>540.73</td>\n",
       "      <td>41.78</td>\n",
       "      <td>39.35</td>\n",
       "    </tr>\n",
       "  </tbody>\n",
       "</table>\n",
       "<p>73 rows × 4 columns</p>\n",
       "</div>"
      ],
      "text/plain": [
       "             date      co   pm10  pm2_5\n",
       "0   2021-07-17 00  373.84  26.22  23.21\n",
       "1   2021-07-17 01  263.69  13.41  11.83\n",
       "2   2021-07-17 02  223.64   8.31   7.30\n",
       "3   2021-07-17 03  210.29   6.56   5.74\n",
       "4   2021-07-17 04  200.27   4.44   3.78\n",
       "..            ...     ...    ...    ...\n",
       "68  2021-07-19 20  540.73  41.78  39.35\n",
       "69  2021-07-19 21  540.73  41.78  39.35\n",
       "70  2021-07-19 22  540.73  41.78  39.35\n",
       "71  2021-07-19 23  540.73  41.78  39.35\n",
       "72  2021-07-20 00  540.73  41.78  39.35\n",
       "\n",
       "[73 rows x 4 columns]"
      ]
     },
     "execution_count": 9,
     "metadata": {},
     "output_type": "execute_result"
    }
   ],
   "source": [
    "result = df[['date','co','pm10','pm2_5']]\n",
    "result"
   ]
  },
  {
   "cell_type": "markdown",
   "metadata": {
    "id": "8nI2M9EO0Grv"
   },
   "source": [
    "## 결과 저장"
   ]
  },
  {
   "cell_type": "code",
   "execution_count": 10,
   "metadata": {
    "id": "7-giOBqOnbsL"
   },
   "outputs": [],
   "source": [
    "result.to_csv(\"./air_{}.csv\".format(datetime.strftime(today,\"%y%m%d\")),index=False,encoding='cp949')"
   ]
  }
 ],
 "metadata": {
  "accelerator": "TPU",
  "colab": {
   "collapsed_sections": [],
   "name": "공기 관련 데이터.ipynb",
   "provenance": []
  },
  "kernelspec": {
   "display_name": "Python 3",
   "language": "python",
   "name": "python3"
  },
  "language_info": {
   "codemirror_mode": {
    "name": "ipython",
    "version": 3
   },
   "file_extension": ".py",
   "mimetype": "text/x-python",
   "name": "python",
   "nbconvert_exporter": "python",
   "pygments_lexer": "ipython3",
   "version": "3.8.7"
  }
 },
 "nbformat": 4,
 "nbformat_minor": 1
}
